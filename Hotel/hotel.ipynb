{
 "cells": [
  {
   "attachments": {},
   "cell_type": "markdown",
   "metadata": {},
   "source": [
    "第一次实战做kaggle上的dataset"
   ]
  },
  {
   "cell_type": "code",
   "execution_count": null,
   "metadata": {},
   "outputs": [],
   "source": [
    "import pandas as pd\n",
    "import numpy as np\n",
    "import seaborn as sns\n",
    "import matplotlib.pyplot as plt\n",
    "import sklearn\n",
    "from sklearn import svm\n",
    "from sklearn.model_selection import train_test_split\n",
    "from sklearn.metrics import accuracy_score"
   ]
  },
  {
   "cell_type": "code",
   "execution_count": null,
   "metadata": {},
   "outputs": [],
   "source": [
    "df = pd.read_csv('Hotel Reservations.csv')\n",
    "df.head(10)"
   ]
  },
  {
   "attachments": {},
   "cell_type": "markdown",
   "metadata": {},
   "source": [
    "预测客户兑现或者取消预订"
   ]
  },
  {
   "attachments": {},
   "cell_type": "markdown",
   "metadata": {},
   "source": [
    "用什么算法？是否要清洗数据？怎么把文字信息转换为数字信息？"
   ]
  },
  {
   "attachments": {},
   "cell_type": "markdown",
   "metadata": {},
   "source": [
    "### <font color=#0dd3de>将字符串改成数字的两种方法</font>"
   ]
  },
  {
   "attachments": {},
   "cell_type": "markdown",
   "metadata": {},
   "source": [
    "#### 第一种 映射"
   ]
  },
  {
   "cell_type": "code",
   "execution_count": null,
   "metadata": {},
   "outputs": [],
   "source": [
    "df['room_type_reserved'] = pd.factorize(df['room_type_reserved'])[0].astype(int)"
   ]
  },
  {
   "cell_type": "code",
   "execution_count": null,
   "metadata": {},
   "outputs": [],
   "source": [
    "df.head(10)"
   ]
  },
  {
   "attachments": {},
   "cell_type": "markdown",
   "metadata": {},
   "source": [
    "#### 第二种 One-hot 独热编码"
   ]
  },
  {
   "cell_type": "code",
   "execution_count": null,
   "metadata": {},
   "outputs": [],
   "source": []
  },
  {
   "attachments": {},
   "cell_type": "markdown",
   "metadata": {},
   "source": [
    "使用第一种方法将所有特征数字化"
   ]
  },
  {
   "cell_type": "code",
   "execution_count": null,
   "metadata": {},
   "outputs": [],
   "source": [
    "df['room_type_reserved'] = pd.factorize(df['room_type_reserved'])[0].astype(int)\n",
    "df['type_of_meal_plan'] = pd.factorize(df['type_of_meal_plan'])[0].astype(int)\n",
    "df['market_segment_type'] = pd.factorize(df['market_segment_type'])[0].astype(int)\n",
    "df['booking_status'] = pd.factorize(df['booking_status'])[0].astype(int)\n",
    "df.head()\n"
   ]
  },
  {
   "attachments": {},
   "cell_type": "markdown",
   "metadata": {},
   "source": [
    "是否有种方法可以让不同字符串变成我想要的特定值 例如 type_of_meal_plan 中，Not select 为0，Meal plan1 为1"
   ]
  },
  {
   "cell_type": "code",
   "execution_count": null,
   "metadata": {},
   "outputs": [],
   "source": [
    "df.corr(numeric_only=True)"
   ]
  },
  {
   "attachments": {},
   "cell_type": "markdown",
   "metadata": {},
   "source": [
    "booking_status 与 lead_time中等相关 arrival_year//repeated_guest//avg_price_per_room//no_of_special_requests低相关"
   ]
  },
  {
   "attachments": {},
   "cell_type": "markdown",
   "metadata": {},
   "source": [
    "尝试使用SVM"
   ]
  },
  {
   "cell_type": "code",
   "execution_count": null,
   "metadata": {},
   "outputs": [],
   "source": [
    "X = df.lead_time\n",
    "y = df.booking_status\n",
    "X = X.values.reshape(-1, 1)\n",
    "y = y.values.reshape(-1, 1)\n",
    "X_train, X_test, y_train, y_test = train_test_split(X, y, test_size=0.3)\n",
    "\n",
    "clf = svm.SVC()\n",
    "clf.fit(X_train, y_train)\n",
    "predicted = clf.predict(X_test)\n",
    "print(accuracy_score(predicted, y_test))"
   ]
  },
  {
   "cell_type": "code",
   "execution_count": null,
   "metadata": {},
   "outputs": [],
   "source": [
    "X = df.lead_time\n",
    "y = df.booking_status\n",
    "X = X.values.reshape(-1, 1)\n",
    "y = y.values.reshape(-1, 1)\n",
    "print(X.shape, y.shape)\n",
    "X, y"
   ]
  },
  {
   "cell_type": "code",
   "execution_count": 59,
   "metadata": {},
   "outputs": [
    {
     "name": "stdout",
     "output_type": "stream",
     "text": [
      "0.7668841312138197\n"
     ]
    }
   ],
   "source": [
    "a = df.lead_time\n",
    "b = df.arrival_year\n",
    "c = df.repeated_guest\n",
    "d = df.avg_price_per_room\n",
    "e = df.no_of_special_requests\n",
    "\n",
    "a = a.values.reshape(-1, 1)\n",
    "b = b.values.reshape(-1, 1)\n",
    "c = c.values.reshape(-1, 1)\n",
    "d = d.values.reshape(-1, 1)\n",
    "e = e.values.reshape(-1, 1)\n",
    "\n",
    "X = np.hstack((a, b, c, d, e))\n",
    "y = df.booking_status\n",
    "\n",
    "X_train, X_test, y_train, y_test = train_test_split(X, y, test_size=0.3)\n",
    "\n",
    "clf = svm.SVC()\n",
    "clf.fit(X_train, y_train)\n",
    "predicted = clf.predict(X_test)\n",
    "print(accuracy_score(predicted, y_test))\n"
   ]
  },
  {
   "cell_type": "code",
   "execution_count": null,
   "metadata": {},
   "outputs": [],
   "source": [
    "keys = ['lead_time', 'arrival_year', 'repeated_guest', 'avg_price_per_room', 'no_of_special_requests']\n",
    "\n",
    "for i in keys:\n",
    "    a = df.i\n",
    "    a = a.values.reshape(-1, 1)\n",
    "    a = np.append\n",
    "    print(a)\n"
   ]
  },
  {
   "attachments": {},
   "cell_type": "markdown",
   "metadata": {},
   "source": [
    "AttributeError: ‘Series’ object has no attribute ‘reshape’\n",
    "\n",
    "翻译：Series 数据类型没有reshape函数\n",
    "\n",
    "解决方法：用values方法将Series 对象转化为numpy 的ndarray，再用ndarray的reshape方法"
   ]
  },
  {
   "cell_type": "code",
   "execution_count": null,
   "metadata": {},
   "outputs": [],
   "source": []
  }
 ],
 "metadata": {
  "kernelspec": {
   "display_name": "Python 3",
   "language": "python",
   "name": "python3"
  },
  "language_info": {
   "codemirror_mode": {
    "name": "ipython",
    "version": 3
   },
   "file_extension": ".py",
   "mimetype": "text/x-python",
   "name": "python",
   "nbconvert_exporter": "python",
   "pygments_lexer": "ipython3",
   "version": "3.10.5"
  },
  "orig_nbformat": 4,
  "vscode": {
   "interpreter": {
    "hash": "26de051ba29f2982a8de78e945f0abaf191376122a1563185a90213a26c5da77"
   }
  }
 },
 "nbformat": 4,
 "nbformat_minor": 2
}
